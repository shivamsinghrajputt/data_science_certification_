{
 "cells": [
  {
   "cell_type": "markdown",
   "id": "3d38cac8",
   "metadata": {},
   "source": [
    "# Twitter Api"
   ]
  },
  {
   "cell_type": "code",
   "execution_count": 33,
   "id": "b5421ef9",
   "metadata": {},
   "outputs": [],
   "source": [
    "%%capture\n",
    "# Installing and importing required libraries\n",
    "\n",
    "import iso639\n",
    "import requests\n",
    "import tweepy\n",
    "from langdetect import detect\n",
    "import ipywidgets as widgets\n",
    "import matplotlib.pyplot as plt\n",
    "import pandas as pd\n",
    "import plotly.express as px\n",
    "\n",
    "%matplotlib inline"
   ]
  },
  {
   "cell_type": "code",
   "execution_count": 34,
   "id": "17c02018",
   "metadata": {},
   "outputs": [],
   "source": [
    "#credentials from twitter developer account\n",
    "API_key='uQwB6HkuefUdavPULjGDZQFjj'\n",
    "API_key_secret='V9B7HNTjRKlYx7fNoFWZlIOBV2HI9vTZNPqvms0SYPGJgFdtn2'\n",
    "Access_token='950627494868242432-OqDO5MEMdQeNVFFFXf1YnuXCRQYYz1q'\n",
    "Access_token_secret='6YoEHmr9XklkyxPqgCrDCee2uzVXnQgRn2qreZzpi2ggH'"
   ]
  },
  {
   "cell_type": "code",
   "execution_count": 35,
   "id": "78716109",
   "metadata": {},
   "outputs": [],
   "source": [
    "# Authentication handler with tweepy\n",
    "authenticate = tweepy.OAuthHandler(API_key,API_key_secret)"
   ]
  },
  {
   "cell_type": "code",
   "execution_count": 36,
   "id": "f805450c",
   "metadata": {},
   "outputs": [],
   "source": [
    "# Setting access tokens to the handler\n",
    "authenticate.set_access_token(Access_token,Access_token_secret)"
   ]
  },
  {
   "cell_type": "code",
   "execution_count": 37,
   "id": "a3a7deeb",
   "metadata": {},
   "outputs": [],
   "source": [
    "#defining api \n",
    "API = tweepy.API(authenticate,wait_on_rate_limit=True)"
   ]
  },
  {
   "cell_type": "code",
   "execution_count": 38,
   "id": "d148944e",
   "metadata": {},
   "outputs": [],
   "source": [
    "woeid=23424848"
   ]
  },
  {
   "cell_type": "code",
   "execution_count": 45,
   "id": "41898e92",
   "metadata": {},
   "outputs": [
    {
     "name": "stdout",
     "output_type": "stream",
     "text": [
      "An exception occurred 403 Forbidden\n",
      "453 - You currently have access to a subset of Twitter API v2 endpoints and limited v1.1 endpoints (e.g. media post, oauth) only. If you need access to this endpoint, you may need a different access level. You can learn more here: https://developer.twitter.com/en/portal/product\n"
     ]
    }
   ],
   "source": [
    "def get_trends_by_location(loc_id,count):\n",
    "    '''Get Trending Tweets by Location'''\n",
    "    import iso639\n",
    "    \n",
    "    try:\n",
    "        trends = API.get_place_trends(loc_id)\n",
    "        df = pd.DataFrame([trending['name'],  trending['tweet_volume'], iso639.to_name(detect(trending['name']))] for trending in trends[0]['trends'])\n",
    "        df.columns = ['Trends','Volume','Language']\n",
    "        df = df.sort_values('Volume', ascending = True) \n",
    "        return(df[:count])\n",
    "    except Exception as e:\n",
    "        print(\"An exception occurred\",e)\n",
    "        \n",
    "        \n",
    "df_india_trends = get_trends_by_location(23424848, 10)\n",
    "df_india_trends"
   ]
  },
  {
   "cell_type": "code",
   "execution_count": 40,
   "id": "95bd7003",
   "metadata": {},
   "outputs": [],
   "source": [
    "# Setting style for slider widget\n",
    "\n",
    "style={'description_width':'initial'}"
   ]
  },
  {
   "cell_type": "code",
   "execution_count": 41,
   "id": "fea3f000",
   "metadata": {},
   "outputs": [],
   "source": [
    "# setting limits, default value and other values for slider\n",
    "\n",
    "limit_case = widgets.IntSlider(value=10,min=5,max=50,step=1,description='Top:',disabled=False,style=style)"
   ]
  },
  {
   "cell_type": "code",
   "execution_count": 42,
   "id": "0efd600f",
   "metadata": {},
   "outputs": [],
   "source": [
    "# defining a function to plot data\n",
    "\n",
    "def top_n_trends(n):\n",
    "    ''' Function Prints top n trending topics in India in last 24 hours, and plots out barchart for number of posts for those topics(if available on API) \n",
    "    n: number of topics'''\n",
    "    # creating a Dataframe for topics and volume\n",
    "    df = pd.DataFrame([(j['name'],j['tweet_volume']) for j in API.get_place_trends(id=woeid)[0]['trends'][:n]],columns=(['Topic','volume']))\n",
    "    # Plotting Top N topics\n",
    "    px.bar(df,x='Topic',y='volume',hover_data=['Topic','volume'],color='Topic').show()"
   ]
  },
  {
   "cell_type": "code",
   "execution_count": 43,
   "id": "61d832f5",
   "metadata": {},
   "outputs": [
    {
     "data": {
      "application/vnd.jupyter.widget-view+json": {
       "model_id": "2fe55d4c7441489e81afe0eeb047e919",
       "version_major": 2,
       "version_minor": 0
      },
      "text/plain": [
       "interactive(children=(IntSlider(value=10, description='Top:', max=50, min=5, style=SliderStyle(description_wid…"
      ]
     },
     "metadata": {},
     "output_type": "display_data"
    }
   ],
   "source": [
    "widgets.interactive(top_n_trends,n=limit_case)"
   ]
  },
  {
   "cell_type": "code",
   "execution_count": 1,
   "id": "f5fca8c7",
   "metadata": {},
   "outputs": [],
   "source": []
  },
  {
   "cell_type": "code",
   "execution_count": null,
   "id": "70aed701",
   "metadata": {},
   "outputs": [],
   "source": []
  }
 ],
 "metadata": {
  "kernelspec": {
   "display_name": "Python 3 (ipykernel)",
   "language": "python",
   "name": "python3"
  },
  "language_info": {
   "codemirror_mode": {
    "name": "ipython",
    "version": 3
   },
   "file_extension": ".py",
   "mimetype": "text/x-python",
   "name": "python",
   "nbconvert_exporter": "python",
   "pygments_lexer": "ipython3",
   "version": "3.9.13"
  }
 },
 "nbformat": 4,
 "nbformat_minor": 5
}
